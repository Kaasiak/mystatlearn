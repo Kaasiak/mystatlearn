{
 "cells": [
  {
   "cell_type": "code",
   "execution_count": 1,
   "metadata": {},
   "outputs": [],
   "source": [
    "import sys  \n",
    "import numpy as np\n",
    "import pandas as pd\n",
    "import matplotlib.pyplot as plt\n",
    "import matplotlib_inline\n",
    "import matplotlib as mpl\n",
    "\n",
    "sys.path.insert(0, '../../')\n",
    "from mystatlearn.interpolation import CubicSpline\n",
    "\n",
    "%matplotlib inline\n",
    "%load_ext autoreload\n",
    "%autoreload 2\n",
    "matplotlib_inline.backend_inline.set_matplotlib_formats('svg')\n",
    "rcParams = {\n",
    "    'font.family' : 'Latin Modern Math',\n",
    "    'font.size': 12,\n",
    "    'axes.linewidth' : 1.5,\n",
    "    'mathtext.fontset' : 'stix'\n",
    "}\n",
    "mpl.rcParams.update(rcParams)"
   ]
  },
  {
   "cell_type": "markdown",
   "metadata": {},
   "source": [
    "# Natural Cubic Splines"
   ]
  },
  {
   "cell_type": "code",
   "execution_count": 8,
   "metadata": {},
   "outputs": [
    {
     "data": {
      "image/svg+xml": "<?xml version=\"1.0\" encoding=\"utf-8\" standalone=\"no\"?>\n<!DOCTYPE svg PUBLIC \"-//W3C//DTD SVG 1.1//EN\"\n  \"http://www.w3.org/Graphics/SVG/1.1/DTD/svg11.dtd\">\n<svg xmlns:xlink=\"http://www.w3.org/1999/xlink\" width=\"371.535625pt\" height=\"249.4975pt\" viewBox=\"0 0 371.535625 249.4975\" xmlns=\"http://www.w3.org/2000/svg\" version=\"1.1\">\n <metadata>\n  <rdf:RDF xmlns:dc=\"http://purl.org/dc/elements/1.1/\" xmlns:cc=\"http://creativecommons.org/ns#\" xmlns:rdf=\"http://www.w3.org/1999/02/22-rdf-syntax-ns#\">\n   <cc:Work>\n    <dc:type rdf:resource=\"http://purl.org/dc/dcmitype/StillImage\"/>\n    <dc:date>2022-09-18T10:14:54.484045</dc:date>\n    <dc:format>image/svg+xml</dc:format>\n    <dc:creator>\n     <cc:Agent>\n      <dc:title>Matplotlib v3.5.1, https://matplotlib.org/</dc:title>\n     </cc:Agent>\n    </dc:creator>\n   </cc:Work>\n  </rdf:RDF>\n </metadata>\n <defs>\n  <style type=\"text/css\">*{stroke-linejoin: round; stroke-linecap: butt}</style>\n </defs>\n <g id=\"figure_1\">\n  <g id=\"patch_1\">\n   <path d=\"M 0 249.4975 \nL 371.535625 249.4975 \nL 371.535625 0 \nL 0 0 \nL 0 249.4975 \nz\n\" style=\"fill: none\"/>\n  </g>\n  <g id=\"axes_1\">\n   <g id=\"patch_2\">\n    <path d=\"M 29.535625 224.64 \nL 364.335625 224.64 \nL 364.335625 7.2 \nL 29.535625 7.2 \nz\n\" style=\"fill: #ffffff\"/>\n   </g>\n   <g id=\"PathCollection_1\">\n    <defs>\n     <path id=\"mf939711d2e\" d=\"M 0 3 \nC 0.795609 3 1.55874 2.683901 2.12132 2.12132 \nC 2.683901 1.55874 3 0.795609 3 0 \nC 3 -0.795609 2.683901 -1.55874 2.12132 -2.12132 \nC 1.55874 -2.683901 0.795609 -3 0 -3 \nC -0.795609 -3 -1.55874 -2.683901 -2.12132 -2.12132 \nC -2.683901 -1.55874 -3 -0.795609 -3 0 \nC -3 0.795609 -2.683901 1.55874 -2.12132 2.12132 \nC -1.55874 2.683901 -0.795609 3 0 3 \nz\n\" style=\"stroke: #1f77b4\"/>\n    </defs>\n    <g clip-path=\"url(#p82f7c81e7d)\">\n     <use xlink:href=\"#mf939711d2e\" x=\"44.753807\" y=\"96.633259\" style=\"fill: #1f77b4; stroke: #1f77b4\"/>\n     <use xlink:href=\"#mf939711d2e\" x=\"105.626534\" y=\"135.206742\" style=\"fill: #1f77b4; stroke: #1f77b4\"/>\n     <use xlink:href=\"#mf939711d2e\" x=\"117.801082\" y=\"77.346517\" style=\"fill: #1f77b4; stroke: #1f77b4\"/>\n     <use xlink:href=\"#mf939711d2e\" x=\"276.070168\" y=\"154.493484\" style=\"fill: #1f77b4; stroke: #1f77b4\"/>\n     <use xlink:href=\"#mf939711d2e\" x=\"288.244716\" y=\"96.633259\" style=\"fill: #1f77b4; stroke: #1f77b4\"/>\n     <use xlink:href=\"#mf939711d2e\" x=\"349.117443\" y=\"135.206742\" style=\"fill: #1f77b4; stroke: #1f77b4\"/>\n    </g>\n   </g>\n   <g id=\"matplotlib.axis_1\">\n    <g id=\"xtick_1\">\n     <g id=\"line2d_1\">\n      <defs>\n       <path id=\"m80df4581b0\" d=\"M 0 0 \nL 0 3.5 \n\" style=\"stroke: #000000; stroke-width: 0.8\"/>\n      </defs>\n      <g>\n       <use xlink:href=\"#m80df4581b0\" x=\"44.753807\" y=\"224.64\" style=\"stroke: #000000; stroke-width: 0.8\"/>\n      </g>\n     </g>\n     <g id=\"text_1\">\n      <!-- 0 -->\n      <g transform=\"translate(41.753807 239.96875)scale(0.12 -0.12)\">\n       <defs>\n        <path id=\"LatinModernMath-Regular-30\" d=\"M 2944 2048 \nC 2944 2560 2912 3072 2688 3546 \nC 2394 4160 1869 4262 1600 4262 \nC 1216 4262 749 4096 486 3501 \nC 282 3059 250 2560 250 2048 \nC 250 1568 275 992 538 506 \nC 813 -13 1280 -141 1594 -141 \nC 1939 -141 2426 -6 2707 602 \nC 2912 1043 2944 1542 2944 2048 \nz\nM 2413 2125 \nC 2413 1645 2413 1210 2342 800 \nC 2246 192 1882 0 1594 0 \nC 1344 0 966 160 851 774 \nC 781 1158 781 1747 781 2125 \nC 781 2534 781 2957 832 3302 \nC 954 4064 1434 4122 1594 4122 \nC 1805 4122 2227 4006 2349 3373 \nC 2413 3014 2413 2528 2413 2125 \nz\n\" transform=\"scale(0.015625)\"/>\n       </defs>\n       <use xlink:href=\"#LatinModernMath-Regular-30\"/>\n      </g>\n     </g>\n    </g>\n    <g id=\"xtick_2\">\n     <g id=\"line2d_2\">\n      <g>\n       <use xlink:href=\"#m80df4581b0\" x=\"105.626534\" y=\"224.64\" style=\"stroke: #000000; stroke-width: 0.8\"/>\n      </g>\n     </g>\n     <g id=\"text_2\">\n      <!-- 1 -->\n      <g transform=\"translate(102.626534 239.96875)scale(0.12 -0.12)\">\n       <defs>\n        <path id=\"LatinModernMath-Regular-31\" d=\"M 2682 0 \nL 2682 198 \nL 2477 198 \nC 1901 198 1882 269 1882 506 \nL 1882 4096 \nC 1882 4250 1882 4262 1734 4262 \nC 1338 3853 774 3853 570 3853 \nL 570 3654 \nC 698 3654 1075 3654 1408 3821 \nL 1408 506 \nC 1408 275 1389 198 813 198 \nL 608 198 \nL 608 0 \nC 832 19 1389 19 1645 19 \nC 1901 19 2458 19 2682 0 \nz\n\" transform=\"scale(0.015625)\"/>\n       </defs>\n       <use xlink:href=\"#LatinModernMath-Regular-31\"/>\n      </g>\n     </g>\n    </g>\n    <g id=\"xtick_3\">\n     <g id=\"line2d_3\">\n      <g>\n       <use xlink:href=\"#m80df4581b0\" x=\"166.499261\" y=\"224.64\" style=\"stroke: #000000; stroke-width: 0.8\"/>\n      </g>\n     </g>\n     <g id=\"text_3\">\n      <!-- 2 -->\n      <g transform=\"translate(163.499261 239.96875)scale(0.12 -0.12)\">\n       <defs>\n        <path id=\"LatinModernMath-Regular-32\" d=\"M 2874 1114 \nL 2714 1114 \nC 2682 922 2637 640 2573 544 \nC 2528 493 2106 493 1965 493 \nL 813 493 \nL 1491 1152 \nC 2490 2035 2874 2381 2874 3021 \nC 2874 3750 2298 4262 1517 4262 \nC 794 4262 320 3674 320 3104 \nC 320 2746 640 2746 659 2746 \nC 768 2746 992 2822 992 3085 \nC 992 3251 877 3418 653 3418 \nC 602 3418 589 3418 570 3411 \nC 717 3827 1062 4064 1434 4064 \nC 2016 4064 2291 3546 2291 3021 \nC 2291 2509 1971 2003 1619 1606 \nL 390 237 \nC 320 166 320 154 320 0 \nL 2694 0 \nL 2874 1114 \nz\n\" transform=\"scale(0.015625)\"/>\n       </defs>\n       <use xlink:href=\"#LatinModernMath-Regular-32\"/>\n      </g>\n     </g>\n    </g>\n    <g id=\"xtick_4\">\n     <g id=\"line2d_4\">\n      <g>\n       <use xlink:href=\"#m80df4581b0\" x=\"227.371989\" y=\"224.64\" style=\"stroke: #000000; stroke-width: 0.8\"/>\n      </g>\n     </g>\n     <g id=\"text_4\">\n      <!-- 3 -->\n      <g transform=\"translate(224.371989 239.96875)scale(0.12 -0.12)\">\n       <defs>\n        <path id=\"LatinModernMath-Regular-33\" d=\"M 2925 1094 \nC 2925 1619 2522 2118 1856 2253 \nC 2381 2426 2752 2874 2752 3379 \nC 2752 3904 2189 4262 1574 4262 \nC 928 4262 442 3878 442 3392 \nC 442 3181 582 3059 768 3059 \nC 966 3059 1094 3200 1094 3386 \nC 1094 3706 794 3706 698 3706 \nC 896 4019 1318 4102 1549 4102 \nC 1811 4102 2163 3962 2163 3386 \nC 2163 3309 2150 2938 1984 2656 \nC 1792 2349 1574 2330 1414 2323 \nC 1363 2317 1210 2304 1165 2304 \nC 1114 2298 1069 2291 1069 2227 \nC 1069 2157 1114 2157 1222 2157 \nL 1504 2157 \nC 2029 2157 2266 1722 2266 1094 \nC 2266 224 1824 38 1542 38 \nC 1267 38 787 147 563 525 \nC 787 493 986 634 986 877 \nC 986 1107 813 1235 627 1235 \nC 474 1235 269 1146 269 864 \nC 269 282 864 -141 1562 -141 \nC 2342 -141 2925 442 2925 1094 \nz\n\" transform=\"scale(0.015625)\"/>\n       </defs>\n       <use xlink:href=\"#LatinModernMath-Regular-33\"/>\n      </g>\n     </g>\n    </g>\n    <g id=\"xtick_5\">\n     <g id=\"line2d_5\">\n      <g>\n       <use xlink:href=\"#m80df4581b0\" x=\"288.244716\" y=\"224.64\" style=\"stroke: #000000; stroke-width: 0.8\"/>\n      </g>\n     </g>\n     <g id=\"text_5\">\n      <!-- 4 -->\n      <g transform=\"translate(285.244716 239.96875)scale(0.12 -0.12)\">\n       <defs>\n        <path id=\"LatinModernMath-Regular-34\" d=\"M 3014 1056 \nL 3014 1254 \nL 2374 1254 \nL 2374 4166 \nC 2374 4294 2374 4333 2272 4333 \nC 2214 4333 2195 4333 2144 4256 \nL 179 1254 \nL 179 1056 \nL 1882 1056 \nL 1882 499 \nC 1882 269 1869 198 1395 198 \nL 1261 198 \nL 1261 0 \nC 1523 19 1856 19 2125 19 \nC 2394 19 2733 19 2995 0 \nL 2995 198 \nL 2861 198 \nC 2387 198 2374 269 2374 499 \nL 2374 1056 \nL 3014 1056 \nz\nM 1920 1254 \nL 358 1254 \nL 1920 3642 \nL 1920 1254 \nz\n\" transform=\"scale(0.015625)\"/>\n       </defs>\n       <use xlink:href=\"#LatinModernMath-Regular-34\"/>\n      </g>\n     </g>\n    </g>\n    <g id=\"xtick_6\">\n     <g id=\"line2d_6\">\n      <g>\n       <use xlink:href=\"#m80df4581b0\" x=\"349.117443\" y=\"224.64\" style=\"stroke: #000000; stroke-width: 0.8\"/>\n      </g>\n     </g>\n     <g id=\"text_6\">\n      <!-- 5 -->\n      <g transform=\"translate(346.117443 239.96875)scale(0.12 -0.12)\">\n       <defs>\n        <path id=\"LatinModernMath-Regular-35\" d=\"M 2874 1286 \nC 2874 2048 2349 2688 1658 2688 \nC 1350 2688 1075 2586 845 2362 \nL 845 3610 \nC 973 3571 1184 3526 1389 3526 \nC 2176 3526 2624 4109 2624 4192 \nC 2624 4230 2605 4262 2560 4262 \nC 2560 4262 2541 4262 2509 4243 \nC 2381 4186 2067 4058 1638 4058 \nC 1382 4058 1088 4102 787 4237 \nC 736 4256 710 4256 710 4256 \nC 646 4256 646 4205 646 4102 \nL 646 2208 \nC 646 2093 646 2042 736 2042 \nC 781 2042 794 2061 819 2099 \nC 890 2202 1126 2547 1645 2547 \nC 1978 2547 2138 2253 2189 2138 \nC 2291 1901 2304 1651 2304 1331 \nC 2304 1107 2304 723 2150 454 \nC 1997 205 1760 38 1466 38 \nC 998 38 634 378 525 755 \nC 544 749 563 742 634 742 \nC 845 742 954 902 954 1056 \nC 954 1210 845 1370 634 1370 \nC 544 1370 320 1325 320 1030 \nC 320 480 762 -141 1478 -141 \nC 2221 -141 2874 474 2874 1286 \nz\n\" transform=\"scale(0.015625)\"/>\n       </defs>\n       <use xlink:href=\"#LatinModernMath-Regular-35\"/>\n      </g>\n     </g>\n    </g>\n   </g>\n   <g id=\"matplotlib.axis_2\">\n    <g id=\"ytick_1\">\n     <g id=\"line2d_7\">\n      <defs>\n       <path id=\"m84837617fd\" d=\"M 0 0 \nL -3.5 0 \n\" style=\"stroke: #000000; stroke-width: 0.8\"/>\n      </defs>\n      <g>\n       <use xlink:href=\"#m84837617fd\" x=\"29.535625\" y=\"193.066968\" style=\"stroke: #000000; stroke-width: 0.8\"/>\n      </g>\n     </g>\n     <g id=\"text_7\">\n      <!-- −4 -->\n      <g transform=\"translate(7.2 197.231343)scale(0.12 -0.12)\">\n       <defs>\n        <path id=\"LatinModernMath-Regular-2212\" d=\"M 4621 1600 \nC 4621 1670 4563 1728 4493 1728 \nL 486 1728 \nC 416 1728 358 1670 358 1600 \nC 358 1530 416 1472 486 1472 \nL 4493 1472 \nC 4563 1472 4621 1530 4621 1600 \nz\n\" transform=\"scale(0.015625)\"/>\n       </defs>\n       <use xlink:href=\"#LatinModernMath-Regular-2212\"/>\n       <use xlink:href=\"#LatinModernMath-Regular-34\" x=\"77.799988\"/>\n      </g>\n     </g>\n    </g>\n    <g id=\"ytick_2\">\n     <g id=\"line2d_8\">\n      <g>\n       <use xlink:href=\"#m84837617fd\" x=\"29.535625\" y=\"154.493484\" style=\"stroke: #000000; stroke-width: 0.8\"/>\n      </g>\n     </g>\n     <g id=\"text_8\">\n      <!-- −2 -->\n      <g transform=\"translate(7.2 158.657859)scale(0.12 -0.12)\">\n       <use xlink:href=\"#LatinModernMath-Regular-2212\"/>\n       <use xlink:href=\"#LatinModernMath-Regular-32\" x=\"77.799988\"/>\n      </g>\n     </g>\n    </g>\n    <g id=\"ytick_3\">\n     <g id=\"line2d_9\">\n      <g>\n       <use xlink:href=\"#m84837617fd\" x=\"29.535625\" y=\"115.920001\" style=\"stroke: #000000; stroke-width: 0.8\"/>\n      </g>\n     </g>\n     <g id=\"text_9\">\n      <!-- 0 -->\n      <g transform=\"translate(16.535625 120.084376)scale(0.12 -0.12)\">\n       <use xlink:href=\"#LatinModernMath-Regular-30\"/>\n      </g>\n     </g>\n    </g>\n    <g id=\"ytick_4\">\n     <g id=\"line2d_10\">\n      <g>\n       <use xlink:href=\"#m84837617fd\" x=\"29.535625\" y=\"77.346517\" style=\"stroke: #000000; stroke-width: 0.8\"/>\n      </g>\n     </g>\n     <g id=\"text_10\">\n      <!-- 2 -->\n      <g transform=\"translate(16.535625 81.510892)scale(0.12 -0.12)\">\n       <use xlink:href=\"#LatinModernMath-Regular-32\"/>\n      </g>\n     </g>\n    </g>\n    <g id=\"ytick_5\">\n     <g id=\"line2d_11\">\n      <g>\n       <use xlink:href=\"#m84837617fd\" x=\"29.535625\" y=\"38.773034\" style=\"stroke: #000000; stroke-width: 0.8\"/>\n      </g>\n     </g>\n     <g id=\"text_11\">\n      <!-- 4 -->\n      <g transform=\"translate(16.535625 42.937409)scale(0.12 -0.12)\">\n       <use xlink:href=\"#LatinModernMath-Regular-34\"/>\n      </g>\n     </g>\n    </g>\n   </g>\n   <g id=\"line2d_12\">\n    <path d=\"M 44.753807 96.633259 \nL 52.675183 120.366877 \nL 56.940539 132.468638 \nL 60.596559 142.166338 \nL 63.643242 149.626364 \nL 66.385256 155.760174 \nL 68.822603 160.683644 \nL 70.955281 164.537193 \nL 73.087959 167.927011 \nL 74.915969 170.434865 \nL 76.743979 172.550517 \nL 78.26732 173.996813 \nL 79.790662 175.140484 \nL 81.314003 175.967775 \nL 82.532677 176.39257 \nL 83.75135 176.599035 \nL 84.970023 176.580127 \nL 86.188696 176.328802 \nL 87.407369 175.83802 \nL 88.626043 175.100735 \nL 89.844716 174.109906 \nL 91.063389 172.858489 \nL 92.586731 170.917038 \nL 94.110072 168.543658 \nL 95.633414 165.724595 \nL 97.156755 162.446092 \nL 98.680097 158.694394 \nL 100.508107 153.54837 \nL 102.336116 147.677368 \nL 104.164126 141.057616 \nL 105.992136 133.665662 \nL 108.124814 124.133738 \nL 111.171497 109.419499 \nL 117.264863 79.769778 \nL 119.70221 69.184583 \nL 121.834888 60.816808 \nL 123.967566 53.26033 \nL 126.100244 46.49211 \nL 128.232922 40.48911 \nL 130.060932 35.935269 \nL 131.888942 31.912196 \nL 133.716952 28.405381 \nL 135.544962 25.400316 \nL 137.068303 23.26891 \nL 138.591645 21.46747 \nL 140.114986 19.9876 \nL 141.638328 18.820905 \nL 143.161669 17.958987 \nL 144.685011 17.393451 \nL 146.208352 17.115901 \nL 147.731694 17.117941 \nL 149.255035 17.391174 \nL 150.778377 17.927205 \nL 152.301718 18.717637 \nL 153.82506 19.754075 \nL 155.65307 21.310705 \nL 157.48108 23.194985 \nL 159.309089 25.392405 \nL 161.441768 28.332481 \nL 163.574446 31.655989 \nL 166.011792 35.894239 \nL 168.449139 40.568817 \nL 171.191153 46.306445 \nL 174.237836 53.218658 \nL 177.589188 61.397475 \nL 181.245207 70.905331 \nL 185.510564 82.619252 \nL 190.994593 98.379637 \nL 210.493365 155.150939 \nL 214.758721 166.548898 \nL 218.41474 175.712582 \nL 221.766092 183.51643 \nL 224.812775 190.038392 \nL 227.55479 195.384595 \nL 229.992136 199.679267 \nL 232.429482 203.507519 \nL 234.562161 206.447595 \nL 236.694839 208.981199 \nL 238.522849 210.811878 \nL 240.350858 212.31249 \nL 241.8742 213.300398 \nL 243.397541 214.040622 \nL 244.920883 214.524765 \nL 246.444225 214.744431 \nL 247.967566 214.691225 \nL 249.186239 214.446549 \nL 250.404912 214.017562 \nL 251.928254 213.215592 \nL 253.451596 212.110524 \nL 254.974937 210.693961 \nL 256.498279 208.957506 \nL 258.02162 206.892765 \nL 259.544962 204.491341 \nL 261.372971 201.153388 \nL 263.200981 197.304013 \nL 265.028991 192.928707 \nL 266.857001 188.012961 \nL 268.989679 181.575514 \nL 271.122357 174.359682 \nL 273.255035 166.342426 \nL 275.387713 157.500709 \nL 277.82506 146.39036 \nL 281.48108 128.474214 \nL 286.051104 106.294981 \nL 288.488451 95.623263 \nL 290.621129 87.37743 \nL 292.449139 81.135025 \nL 294.277148 75.629483 \nL 296.105158 70.837035 \nL 297.933168 66.733912 \nL 299.45651 63.824061 \nL 300.979851 61.362645 \nL 302.503193 59.335908 \nL 304.026534 57.730096 \nL 305.245207 56.739266 \nL 306.463881 56.001982 \nL 307.682554 55.511199 \nL 308.901227 55.259875 \nL 310.1199 55.240967 \nL 311.338573 55.447431 \nL 312.557247 55.872226 \nL 313.77592 56.508308 \nL 315.299261 57.589804 \nL 316.822603 58.976676 \nL 318.345944 60.655168 \nL 320.173954 63.034929 \nL 322.001964 65.791045 \nL 324.134642 69.450474 \nL 326.26732 73.552065 \nL 328.704667 78.732602 \nL 331.446682 85.121937 \nL 334.493365 92.824063 \nL 337.844716 101.902257 \nL 342.110072 114.149608 \nL 348.203438 132.431548 \nL 349.117443 135.206742 \nL 349.117443 135.206742 \n\" clip-path=\"url(#p82f7c81e7d)\" style=\"fill: none; stroke: #1f77b4; stroke-width: 1.5; stroke-linecap: square\"/>\n   </g>\n   <g id=\"patch_3\">\n    <path d=\"M 29.535625 224.64 \nL 29.535625 7.2 \n\" style=\"fill: none; stroke: #000000; stroke-width: 1.5; stroke-linejoin: miter; stroke-linecap: square\"/>\n   </g>\n   <g id=\"patch_4\">\n    <path d=\"M 364.335625 224.64 \nL 364.335625 7.2 \n\" style=\"fill: none; stroke: #000000; stroke-width: 1.5; stroke-linejoin: miter; stroke-linecap: square\"/>\n   </g>\n   <g id=\"patch_5\">\n    <path d=\"M 29.535625 224.64 \nL 364.335625 224.64 \n\" style=\"fill: none; stroke: #000000; stroke-width: 1.5; stroke-linejoin: miter; stroke-linecap: square\"/>\n   </g>\n   <g id=\"patch_6\">\n    <path d=\"M 29.535625 7.2 \nL 364.335625 7.2 \n\" style=\"fill: none; stroke: #000000; stroke-width: 1.5; stroke-linejoin: miter; stroke-linecap: square\"/>\n   </g>\n  </g>\n </g>\n <defs>\n  <clipPath id=\"p82f7c81e7d\">\n   <rect x=\"29.535625\" y=\"7.2\" width=\"334.8\" height=\"217.44\"/>\n  </clipPath>\n </defs>\n</svg>\n",
      "text/plain": [
       "<Figure size 432x288 with 1 Axes>"
      ]
     },
     "metadata": {
      "needs_background": "light"
     },
     "output_type": "display_data"
    }
   ],
   "source": [
    "X = np.array([0, 1, 1.2, 3.8, 4, 5]).astype('float32')\n",
    "y = np.array([1, -1, 2, -2, 1, -1]).astype('float32')\n",
    "\n",
    "spline = CubicSpline()\n",
    "spline.fit(X, y)\n",
    "\n",
    "xs = np.linspace(0, 5, 1000)\n",
    "y_fit = spline.interpolate(xs)\n",
    "plt.scatter(X, y)\n",
    "plt.plot(xs, y_fit)\n",
    "plt.show()"
   ]
  }
 ],
 "metadata": {
  "kernelspec": {
   "display_name": "Python 3.8.2 ('base')",
   "language": "python",
   "name": "python3"
  },
  "language_info": {
   "codemirror_mode": {
    "name": "ipython",
    "version": 3
   },
   "file_extension": ".py",
   "mimetype": "text/x-python",
   "name": "python",
   "nbconvert_exporter": "python",
   "pygments_lexer": "ipython3",
   "version": "3.8.2"
  },
  "orig_nbformat": 4,
  "vscode": {
   "interpreter": {
    "hash": "81d1d232042a0e3c992c83d0047ecbd26589766075eeb677a6e6293777d0a344"
   }
  }
 },
 "nbformat": 4,
 "nbformat_minor": 2
}
